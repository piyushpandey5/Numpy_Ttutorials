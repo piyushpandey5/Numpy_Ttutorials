{
 "cells": [
  {
   "cell_type": "markdown",
   "id": "9bb3b92e",
   "metadata": {},
   "source": [
    "# String Operations,Comparisonand Information"
   ]
  },
  {
   "cell_type": "code",
   "execution_count": 1,
   "id": "a7821fb1",
   "metadata": {},
   "outputs": [],
   "source": [
    "import numpy as np"
   ]
  },
  {
   "cell_type": "code",
   "execution_count": 6,
   "id": "837565b8",
   "metadata": {},
   "outputs": [],
   "source": [
    "ch_name=\"Indian AI production\"\n",
    "str1=\" Learning Python numpy\""
   ]
  },
  {
   "cell_type": "code",
   "execution_count": 7,
   "id": "ff439f7f",
   "metadata": {},
   "outputs": [
    {
     "data": {
      "text/plain": [
       "array('Indian AI production Learning Python numpy', dtype='<U42')"
      ]
     },
     "execution_count": 7,
     "metadata": {},
     "output_type": "execute_result"
    }
   ],
   "source": [
    "np.char.add(ch_name,str1)"
   ]
  },
  {
   "cell_type": "code",
   "execution_count": 8,
   "id": "8500118c",
   "metadata": {},
   "outputs": [
    {
     "data": {
      "text/plain": [
       "array('indian ai production', dtype='<U20')"
      ]
     },
     "execution_count": 8,
     "metadata": {},
     "output_type": "execute_result"
    }
   ],
   "source": [
    "np.char.lower(ch_name)"
   ]
  },
  {
   "cell_type": "code",
   "execution_count": 9,
   "id": "84ec0a42",
   "metadata": {},
   "outputs": [
    {
     "data": {
      "text/plain": [
       "array('INDIAN AI PRODUCTION', dtype='<U20')"
      ]
     },
     "execution_count": 9,
     "metadata": {},
     "output_type": "execute_result"
    }
   ],
   "source": [
    "np.char.upper(ch_name)"
   ]
  },
  {
   "cell_type": "code",
   "execution_count": 12,
   "id": "38014c39",
   "metadata": {},
   "outputs": [
    {
     "data": {
      "text/plain": [
       "array('                    Learning Python numpy                   ',\n",
       "      dtype='<U60')"
      ]
     },
     "execution_count": 12,
     "metadata": {},
     "output_type": "execute_result"
    }
   ],
   "source": [
    "np.char.center(str1,60)"
   ]
  },
  {
   "cell_type": "code",
   "execution_count": 13,
   "id": "0d66e751",
   "metadata": {},
   "outputs": [
    {
     "data": {
      "text/plain": [
       "array('******************* Learning Python numpy*******************',\n",
       "      dtype='<U60')"
      ]
     },
     "execution_count": 13,
     "metadata": {},
     "output_type": "execute_result"
    }
   ],
   "source": [
    "np.char.center(str1,60,fillchar=\"*\")"
   ]
  },
  {
   "cell_type": "code",
   "execution_count": 14,
   "id": "628b5089",
   "metadata": {},
   "outputs": [
    {
     "data": {
      "text/plain": [
       "array(list(['Indian', 'AI', 'production']), dtype=object)"
      ]
     },
     "execution_count": 14,
     "metadata": {},
     "output_type": "execute_result"
    }
   ],
   "source": [
    "np.char.split(ch_name)"
   ]
  },
  {
   "cell_type": "code",
   "execution_count": 17,
   "id": "1b4555c4",
   "metadata": {},
   "outputs": [
    {
     "data": {
      "text/plain": [
       "array(list(['hello', 'Indian']), dtype=object)"
      ]
     },
     "execution_count": 17,
     "metadata": {},
     "output_type": "execute_result"
    }
   ],
   "source": [
    "np.char.splitlines(\"hello\\nIndian\")"
   ]
  },
  {
   "cell_type": "code",
   "execution_count": 18,
   "id": "b8787c8f",
   "metadata": {},
   "outputs": [],
   "source": [
    "str4=\"day\"\n",
    "str5=\"dmy\""
   ]
  },
  {
   "cell_type": "code",
   "execution_count": 19,
   "id": "606245a2",
   "metadata": {},
   "outputs": [
    {
     "data": {
      "text/plain": [
       "array(['d:a:y', 'd/m/y'], dtype='<U5')"
      ]
     },
     "execution_count": 19,
     "metadata": {},
     "output_type": "execute_result"
    }
   ],
   "source": [
    "np.char.join([\":\",\"/\"],[str4,str5])"
   ]
  },
  {
   "cell_type": "code",
   "execution_count": 21,
   "id": "46ba5412",
   "metadata": {},
   "outputs": [
    {
     "data": {
      "text/plain": [
       "array('Indian Artificial Intelligence production', dtype='<U41')"
      ]
     },
     "execution_count": 21,
     "metadata": {},
     "output_type": "execute_result"
    }
   ],
   "source": [
    "np.char.replace(ch_name,\"AI\",\"Artificial Intelligence\")"
   ]
  },
  {
   "cell_type": "code",
   "execution_count": 22,
   "id": "2852435e",
   "metadata": {},
   "outputs": [
    {
     "data": {
      "text/plain": [
       "array(False)"
      ]
     },
     "execution_count": 22,
     "metadata": {},
     "output_type": "execute_result"
    }
   ],
   "source": [
    "np.char.equal(str4,str5)"
   ]
  },
  {
   "cell_type": "code",
   "execution_count": 23,
   "id": "c7f60c3c",
   "metadata": {},
   "outputs": [
    {
     "data": {
      "text/plain": [
       "array(1)"
      ]
     },
     "execution_count": 23,
     "metadata": {},
     "output_type": "execute_result"
    }
   ],
   "source": [
    "np.char.count(ch_name,\"a\")"
   ]
  },
  {
   "cell_type": "code",
   "execution_count": 24,
   "id": "83e14b95",
   "metadata": {},
   "outputs": [
    {
     "data": {
      "text/plain": [
       "'Indian AI production'"
      ]
     },
     "execution_count": 24,
     "metadata": {},
     "output_type": "execute_result"
    }
   ],
   "source": [
    "ch_name"
   ]
  },
  {
   "cell_type": "code",
   "execution_count": 30,
   "id": "1ac60aa0",
   "metadata": {},
   "outputs": [
    {
     "data": {
      "text/plain": [
       "array(7)"
      ]
     },
     "execution_count": 30,
     "metadata": {},
     "output_type": "execute_result"
    }
   ],
   "source": [
    "np.char.find(ch_name,\"AI\")"
   ]
  },
  {
   "cell_type": "markdown",
   "id": "1947f9fb",
   "metadata": {},
   "source": [
    "# Practice"
   ]
  },
  {
   "cell_type": "code",
   "execution_count": 33,
   "id": "e771abc2",
   "metadata": {},
   "outputs": [],
   "source": [
    "str4=\"Hello Sir\"\n",
    "str6=\" How are you\""
   ]
  },
  {
   "cell_type": "code",
   "execution_count": 34,
   "id": "900f76a1",
   "metadata": {},
   "outputs": [
    {
     "data": {
      "text/plain": [
       "array('Hello Sir How are you', dtype='<U21')"
      ]
     },
     "execution_count": 34,
     "metadata": {},
     "output_type": "execute_result"
    }
   ],
   "source": [
    "np.char.add(str4,str6)"
   ]
  },
  {
   "cell_type": "code",
   "execution_count": 35,
   "id": "a0e3ae54",
   "metadata": {},
   "outputs": [
    {
     "data": {
      "text/plain": [
       "array('hello sir', dtype='<U9')"
      ]
     },
     "execution_count": 35,
     "metadata": {},
     "output_type": "execute_result"
    }
   ],
   "source": [
    "\n",
    "np.char.lower(str4)"
   ]
  },
  {
   "cell_type": "code",
   "execution_count": 37,
   "id": "3ba08c31",
   "metadata": {},
   "outputs": [
    {
     "data": {
      "text/plain": [
       "array(' HOW ARE YOU', dtype='<U12')"
      ]
     },
     "execution_count": 37,
     "metadata": {},
     "output_type": "execute_result"
    }
   ],
   "source": [
    "np.char.upper(str6)"
   ]
  },
  {
   "cell_type": "code",
   "execution_count": 39,
   "id": "ca37d624",
   "metadata": {},
   "outputs": [
    {
     "data": {
      "text/plain": [
       "array('                         Hello Sir                          ',\n",
       "      dtype='<U60')"
      ]
     },
     "execution_count": 39,
     "metadata": {},
     "output_type": "execute_result"
    }
   ],
   "source": [
    "np.char.center(str4,60)"
   ]
  },
  {
   "cell_type": "code",
   "execution_count": 40,
   "id": "100dba99",
   "metadata": {},
   "outputs": [
    {
     "data": {
      "text/plain": [
       "array('*************************Hello Sir**************************',\n",
       "      dtype='<U60')"
      ]
     },
     "execution_count": 40,
     "metadata": {},
     "output_type": "execute_result"
    }
   ],
   "source": [
    "np.char.center(str4,60,fillchar=\"*\")"
   ]
  },
  {
   "cell_type": "code",
   "execution_count": 42,
   "id": "65920f4b",
   "metadata": {},
   "outputs": [
    {
     "data": {
      "text/plain": [
       "array(list(['hello', 'buddy']), dtype=object)"
      ]
     },
     "execution_count": 42,
     "metadata": {},
     "output_type": "execute_result"
    }
   ],
   "source": [
    "np.char.splitlines(\"hello\\nbuddy\")"
   ]
  },
  {
   "cell_type": "code",
   "execution_count": 43,
   "id": "de4c5c67",
   "metadata": {},
   "outputs": [],
   "source": [
    "str7=\"hey\"\n",
    "str8=\"hey\""
   ]
  },
  {
   "cell_type": "code",
   "execution_count": 47,
   "id": "f986979e",
   "metadata": {},
   "outputs": [
    {
     "data": {
      "text/plain": [
       "array(['h:e:y', 'h+e+y'], dtype='<U5')"
      ]
     },
     "execution_count": 47,
     "metadata": {},
     "output_type": "execute_result"
    }
   ],
   "source": [
    "np.char.join([\":\",\"+\"],[str7,str8])"
   ]
  },
  {
   "cell_type": "code",
   "execution_count": null,
   "id": "17634e8a",
   "metadata": {},
   "outputs": [],
   "source": []
  }
 ],
 "metadata": {
  "kernelspec": {
   "display_name": "Python 3",
   "language": "python",
   "name": "python3"
  },
  "language_info": {
   "codemirror_mode": {
    "name": "ipython",
    "version": 3
   },
   "file_extension": ".py",
   "mimetype": "text/x-python",
   "name": "python",
   "nbconvert_exporter": "python",
   "pygments_lexer": "ipython3",
   "version": "3.8.8"
  }
 },
 "nbformat": 4,
 "nbformat_minor": 5
}
