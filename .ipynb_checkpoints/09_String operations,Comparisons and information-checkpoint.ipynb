{
 "cells": [
  {
   "cell_type": "markdown",
   "id": "9bb3b92e",
   "metadata": {},
   "source": [
    "# String Operations,Comparisonand Information"
   ]
  },
  {
   "cell_type": "code",
   "execution_count": 1,
   "id": "a7821fb1",
   "metadata": {},
   "outputs": [],
   "source": [
    "import numpy as np"
   ]
  },
  {
   "cell_type": "code",
   "execution_count": 6,
   "id": "3f55d525",
   "metadata": {},
   "outputs": [],
   "source": [
    "ch_name=\"Indian AI production\"\n",
    "str1=\" Learning Python numpy\""
   ]
  },
  {
   "cell_type": "code",
   "execution_count": 7,
   "id": "b5107071",
   "metadata": {},
   "outputs": [
    {
     "data": {
      "text/plain": [
       "array('Indian AI production Learning Python numpy', dtype='<U42')"
      ]
     },
     "execution_count": 7,
     "metadata": {},
     "output_type": "execute_result"
    }
   ],
   "source": [
    "np.char.add(ch_name,str1)"
   ]
  },
  {
   "cell_type": "code",
   "execution_count": null,
   "id": "f4058142",
   "metadata": {},
   "outputs": [],
   "source": [
    "np.char"
   ]
  },
  {
   "cell_type": "code",
   "execution_count": null,
   "id": "a2f623b5",
   "metadata": {},
   "outputs": [],
   "source": []
  },
  {
   "cell_type": "code",
   "execution_count": null,
   "id": "0bb0326e",
   "metadata": {},
   "outputs": [],
   "source": []
  }
 ],
 "metadata": {
  "kernelspec": {
   "display_name": "Python 3",
   "language": "python",
   "name": "python3"
  },
  "language_info": {
   "codemirror_mode": {
    "name": "ipython",
    "version": 3
   },
   "file_extension": ".py",
   "mimetype": "text/x-python",
   "name": "python",
   "nbconvert_exporter": "python",
   "pygments_lexer": "ipython3",
   "version": "3.8.8"
  }
 },
 "nbformat": 4,
 "nbformat_minor": 5
}
